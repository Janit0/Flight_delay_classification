{
 "cells": [
  {
   "cell_type": "code",
   "execution_count": 81,
   "id": "d1ba1c02",
   "metadata": {
    "scrolled": true
   },
   "outputs": [
    {
     "name": "stdout",
     "output_type": "stream",
     "text": [
      "    FlightNum Origin Dest  Distance\n",
      "0         335    IAD  TPA       810\n",
      "1        3231    IAD  TPA       810\n",
      "2         448    IND  BWI       515\n",
      "3        3920    IND  BWI       515\n",
      "4         378    IND  JAX       688\n",
      "5         509    IND  LAS      1591\n",
      "6         100    IND  MCO       828\n",
      "7        1333    IND  MCO       828\n",
      "8        2272    IND  MDW       162\n",
      "9         675    IND  PHX      1489\n",
      "10       1144    IND  PHX      1489\n",
      "11          4    IND  TPA       838\n",
      "12         54    ISP  BWI       220\n",
      "13        623    ISP  BWI       220\n",
      "14        717    ISP  BWI       220\n"
     ]
    }
   ],
   "source": [
    "import pandas as pd\n",
    "import numpy as np\n",
    "path = \"DelayedFlights.csv\"\n",
    "data = pd.read_csv(path, usecols=[10,17,18,19])\n",
    "print(data.head(15))"
   ]
  },
  {
   "cell_type": "code",
   "execution_count": 51,
   "id": "87e34f06",
   "metadata": {},
   "outputs": [],
   "source": [
    "# dups = data.pivot_table(index=['FlightNum','Origin','Dest', 'Distance'], aggfunc='size')\n",
    "# print(dups)"
   ]
  },
  {
   "cell_type": "code",
   "execution_count": 82,
   "id": "3b76d96d",
   "metadata": {},
   "outputs": [
    {
     "name": "stdout",
     "output_type": "stream",
     "text": [
      "    FlightNum Origin Dest  Distance  match\n",
      "0         335    IAD  TPA       810  False\n",
      "1        3231    IAD  TPA       810   True\n",
      "2         448    IND  BWI       515  False\n",
      "3        3920    IND  BWI       515   True\n",
      "4         378    IND  JAX       688  False\n",
      "5         509    IND  LAS      1591  False\n",
      "6         100    IND  MCO       828  False\n",
      "7        1333    IND  MCO       828   True\n",
      "8        2272    IND  MDW       162  False\n",
      "9         675    IND  PHX      1489  False\n",
      "10       1144    IND  PHX      1489   True\n",
      "11          4    IND  TPA       838  False\n",
      "12         54    ISP  BWI       220  False\n",
      "13        623    ISP  BWI       220   True\n",
      "14        717    ISP  BWI       220   True\n"
     ]
    }
   ],
   "source": [
    "data['match'] = data.Distance == data.Distance.shift()\n",
    "print(data.head(15))\n",
    "    "
   ]
  },
  {
   "cell_type": "code",
   "execution_count": 83,
   "id": "14f721cc",
   "metadata": {},
   "outputs": [
    {
     "name": "stdout",
     "output_type": "stream",
     "text": [
      "    FlightNum Origin Dest  Distance  match\n",
      "0         335    IAD  TPA       810  False\n",
      "1        3231    IAD  TPA         0   True\n",
      "2         448    IND  BWI       515  False\n",
      "3        3920    IND  BWI         0   True\n",
      "4         378    IND  JAX       688  False\n",
      "5         509    IND  LAS      1591  False\n",
      "6         100    IND  MCO       828  False\n",
      "7        1333    IND  MCO         0   True\n",
      "8        2272    IND  MDW       162  False\n",
      "9         675    IND  PHX      1489  False\n",
      "10       1144    IND  PHX         0   True\n",
      "11          4    IND  TPA       838  False\n",
      "12         54    ISP  BWI       220  False\n",
      "13        623    ISP  BWI         0   True\n",
      "14        717    ISP  BWI         0   True\n"
     ]
    }
   ],
   "source": [
    "data.loc[data[\"match\"] == True, \"Distance\"] = 0\n",
    "print(data.head(15))"
   ]
  },
  {
   "cell_type": "code",
   "execution_count": 89,
   "id": "001bd66c",
   "metadata": {},
   "outputs": [
    {
     "name": "stdout",
     "output_type": "stream",
     "text": [
      "    FlightNum Origin Dest  Distance  match\n",
      "0         335    IAD  TPA     810.0  False\n",
      "1        3231    IAD  TPA     810.0   True\n",
      "2         448    IND  BWI     515.0  False\n",
      "3        3920    IND  BWI     515.0   True\n",
      "4         378    IND  JAX     688.0  False\n",
      "5         509    IND  LAS    1591.0  False\n",
      "6         100    IND  MCO     828.0  False\n",
      "7        1333    IND  MCO     828.0   True\n",
      "8        2272    IND  MDW     162.0  False\n",
      "9         675    IND  PHX    1489.0  False\n",
      "10       1144    IND  PHX    1489.0   True\n",
      "11          4    IND  TPA     838.0  False\n",
      "12         54    ISP  BWI     220.0  False\n",
      "13        623    ISP  BWI     220.0   True\n",
      "14        717    ISP  BWI     220.0   True\n"
     ]
    }
   ],
   "source": [
    "data['Distance'] = data['Distance']. replace(0,np. nan)\n",
    "print(data.head(15))\n",
    "# data['Distance'].fillna(method='pad', inplace=True)\n",
    "# df['purch_amt'].fillna(method='pad', inplace=True)\n",
    "\n",
    "# data['Distance'].mask(data['Distance'] == \"NaN\").ffill(downcast='infer')\n",
    "# print(data.head(15))\n",
    "# count = (data[''] == 0).sum()\n",
    "# print(count)\n",
    "# checkNull = data['a']. eq(0). any()\n",
    "# print(checkNull)\n",
    "# if data['Origin'] == data.Origin.shift():\n",
    "#     if data.Dest == data.Dest.shift() :\n",
    "#         print(data)"
   ]
  },
  {
   "cell_type": "code",
   "execution_count": 88,
   "id": "a1ce2088",
   "metadata": {},
   "outputs": [
    {
     "name": "stdout",
     "output_type": "stream",
     "text": [
      "    FlightNum Origin Dest  Distance  match\n",
      "0         335    IAD  TPA     810.0  False\n",
      "1        3231    IAD  TPA     810.0   True\n",
      "2         448    IND  BWI     515.0  False\n",
      "3        3920    IND  BWI     515.0   True\n",
      "4         378    IND  JAX     688.0  False\n",
      "5         509    IND  LAS    1591.0  False\n",
      "6         100    IND  MCO     828.0  False\n",
      "7        1333    IND  MCO     828.0   True\n",
      "8        2272    IND  MDW     162.0  False\n",
      "9         675    IND  PHX    1489.0  False\n",
      "10       1144    IND  PHX    1489.0   True\n",
      "11          4    IND  TPA     838.0  False\n",
      "12         54    ISP  BWI     220.0  False\n",
      "13        623    ISP  BWI     220.0   True\n",
      "14        717    ISP  BWI     220.0   True\n",
      "15       1244    ISP  BWI     220.0   True\n",
      "16       2553    ISP  BWI     220.0   True\n",
      "17        188    ISP  FLL    1093.0  False\n",
      "18       1754    ISP  FLL    1093.0   True\n",
      "19        362    ISP  MCO     972.0  False\n",
      "20       1397    ISP  MCO     972.0   True\n",
      "21       3398    ISP  MCO     972.0   True\n",
      "22       3480    ISP  MCO     972.0   True\n",
      "23        422    ISP  MDW     765.0  False\n",
      "24       1837    ISP  MDW     765.0   True\n",
      "25       2871    ISP  MDW     765.0   True\n",
      "26       1056    ISP  PBI    1052.0  False\n",
      "27       2175    ISP  PBI    1052.0   True\n",
      "28       3319    ISP  PBI    1052.0   True\n",
      "29       3667    ISP  RSW    1101.0  False\n",
      "30       2006    ISP  TPA    1034.0  False\n",
      "31       3858    ISP  TPA    1034.0   True\n",
      "32       3244    JAN  BWI     888.0  False\n",
      "33        186    JAN  HOU     359.0  False\n",
      "34       3154    JAN  HOU     359.0   True\n",
      "35       1035    JAN  MCO     587.0  False\n",
      "36        205    JAN  MDW     666.0  False\n",
      "37       3430    JAX  BHM     365.0  False\n",
      "38       1580    JAX  BNA     484.0  False\n",
      "39       2195    JAX  BNA     484.0   True\n",
      "40        378    JAX  FLL     318.0  False\n",
      "41       3948    JAX  FLL     318.0   True\n",
      "42         54    JAX  HOU     816.0  False\n",
      "43       2272    JAX  IND     688.0  False\n",
      "44         23    JAX  PHL     742.0  False\n",
      "45       1232    JAX  PHL     742.0   True\n",
      "46        977    JAX  TPA     180.0  False\n",
      "47       1574    JAX  TPA     180.0   True\n",
      "48       2019    JAX  TPA     180.0   True\n",
      "49        500    LAS  ABQ     487.0  False\n"
     ]
    }
   ],
   "source": [
    "data['Distance'].ffill(inplace=True)\n",
    "print(data.head(50))"
   ]
  },
  {
   "cell_type": "code",
   "execution_count": null,
   "id": "8f1de49f",
   "metadata": {},
   "outputs": [],
   "source": []
  }
 ],
 "metadata": {
  "kernelspec": {
   "display_name": "Python 3 (ipykernel)",
   "language": "python",
   "name": "python3"
  },
  "language_info": {
   "codemirror_mode": {
    "name": "ipython",
    "version": 3
   },
   "file_extension": ".py",
   "mimetype": "text/x-python",
   "name": "python",
   "nbconvert_exporter": "python",
   "pygments_lexer": "ipython3",
   "version": "3.9.12"
  }
 },
 "nbformat": 4,
 "nbformat_minor": 5
}
